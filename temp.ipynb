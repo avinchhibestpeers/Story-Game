{
 "cells": [
  {
   "cell_type": "code",
   "execution_count": 1,
   "id": "40126cc1",
   "metadata": {},
   "outputs": [],
   "source": [
    "import time\n",
    "import json"
   ]
  },
  {
   "cell_type": "markdown",
   "id": "a03393f3",
   "metadata": {},
   "source": [
    "## Print story in stream"
   ]
  },
  {
   "cell_type": "code",
   "execution_count": null,
   "id": "ff2908cb",
   "metadata": {},
   "outputs": [],
   "source": [
    "def p(w_t, max_line_char_cnt, story):\n",
    "    # divide words into small chunk with char size of 100\n",
    "    line_char_cnt = 0\n",
    "    for word in story.split(' '):\n",
    "        # when curr line have n chars change line\n",
    "        if line_char_cnt >= max_line_char_cnt:\n",
    "            line_char_cnt = 0\n",
    "            print()\n",
    "        \n",
    "        line_char_cnt += len(word) + 1\n",
    "        print(word, end=' ', flush=True)\n",
    "        time.sleep(w_t)\n",
    "        \n"
   ]
  },
  {
   "cell_type": "code",
   "execution_count": 37,
   "id": "f73d22e3",
   "metadata": {},
   "outputs": [],
   "source": [
    "story = (\n",
    "'''Section 1.10.32 of \"de Finibus Bonorum et Malorum\", written by Cicero in 45 BC\n",
    "\"Sed ut perspiciatis unde omnis iste natus error sit voluptatem accusantium doloremque laudantium, totam rem aperiam, eaque ipsa quae ab illo inventore veritatis et quasi architecto beatae vitae dicta sunt explicabo. Nemo enim ipsam voluptatem quia voluptas sit aspernatur aut odit aut fugit, sed quia consequuntur magni dolores eos qui ratione voluptatem sequi nesciunt. Neque porro quisquam est, qui dolorem ipsum quia dolor sit amet, consectetur, adipisci velit, sed quia non numquam eius modi tempora incidunt ut labore et dolore magnam aliquam quaerat voluptatem. Ut enim ad minima veniam, quis nostrum exercitationem ullam corporis suscipit laboriosam, nisi ut aliquid ex ea commodi consequatur? Quis autem vel eum iure reprehenderit qui in ea voluptate velit esse quam nihil molestiae consequatur, vel illum qui dolorem eum fugiat quo voluptas nulla pariatur?\"\n",
    "\n",
    "1914 translation by H. Rackham\n",
    "\"But I must explain to you how all this mistaken idea of denouncing pleasure and praising pain was born and I will give you a complete account of the system, and expound the actual teachings of the great explorer of the truth, the master-builder of human happiness. No one rejects, dislikes, or avoids pleasure itself, because it is pleasure, but because those who do not know how to pursue pleasure rationally encounter consequences that are extremely painful. Nor again is there anyone who loves or pursues or desires to obtain pain of itself, because it is pain, but because occasionally circumstances occur in which toil and pain can procure him some great pleasure. To take a trivial example, which of us ever undertakes laborious physical exercise, except to obtain some advantage from it? But who has any right to find fault with a man who chooses to enjoy a pleasure that has no annoying consequences, or one who avoids a pain that produces no resultant pleasure?\"\n",
    "\n",
    "Section 1.10.33 of \"de Finibus Bonorum et Malorum\", written by Cicero in 45 BC\n",
    "\"At vero eos et accusamus et iusto odio dignissimos ducimus qui blanditiis praesentium voluptatum deleniti atque corrupti quos dolores et quas molestias excepturi sint occaecati cupiditate non provident, similique sunt in culpa qui officia deserunt mollitia animi, id est laborum et dolorum fuga. Et harum quidem rerum facilis est et expedita distinctio. Nam libero tempore, cum soluta nobis est eligendi optio cumque nihil impedit quo minus id quod maxime placeat facere possimus, omnis voluptas assumenda est, omnis dolor repellendus. Temporibus autem quibusdam et aut officiis debitis aut rerum necessitatibus saepe eveniet ut et voluptates repudiandae sint et molestiae non recusandae. Itaque earum rerum hic tenetur a sapiente delectus, ut aut reiciendis voluptatibus maiores alias consequatur aut perferendis doloribus asperiores repellat.\"'''\n",
    ")"
   ]
  },
  {
   "cell_type": "code",
   "execution_count": 38,
   "id": "ba8e4e88",
   "metadata": {},
   "outputs": [
    {
     "name": "stdout",
     "output_type": "stream",
     "text": [
      "Section 1.10.32 of \"de Finibus Bonorum et Malorum\", written by Cicero \n",
      "in 45 BC\n",
      "\"Sed ut perspiciatis unde omnis iste natus error sit voluptatem \n",
      "accusantium doloremque laudantium, totam rem aperiam, eaque ipsa quae \n",
      "ab illo inventore veritatis et quasi architecto beatae vitae dicta sunt \n",
      "explicabo. Nemo enim ipsam voluptatem quia voluptas sit aspernatur aut \n",
      "odit aut fugit, sed quia consequuntur magni dolores eos qui ratione voluptatem \n",
      "sequi nesciunt. Neque porro quisquam est, qui dolorem ipsum quia dolor \n",
      "sit amet, consectetur, adipisci velit, sed quia non numquam eius modi \n",
      "tempora incidunt ut labore et dolore magnam aliquam quaerat voluptatem. \n",
      "Ut enim ad minima veniam, quis nostrum exercitationem ullam corporis suscipit \n",
      "laboriosam, nisi ut aliquid ex ea commodi consequatur? Quis autem vel \n",
      "eum iure reprehenderit qui in ea voluptate velit esse quam nihil molestiae \n",
      "consequatur, vel illum qui dolorem eum fugiat quo voluptas nulla pariatur?\"\n",
      "\n",
      "1914 \n",
      "translation by H. Rackham\n",
      "\"But I must explain to you how all this mistaken \n",
      "idea of denouncing pleasure and praising pain was born and I will give \n",
      "you a complete account of the system, and expound the actual teachings \n",
      "of the great explorer of the truth, the master-builder of human happiness. \n",
      "No one rejects, dislikes, or avoids pleasure itself, because it is pleasure, \n",
      "but because those who do not know how to pursue pleasure rationally encounter \n",
      "consequences that are extremely painful. Nor again is there anyone who \n",
      "loves or pursues or desires to obtain pain of itself, because it is pain, \n",
      "but because occasionally circumstances occur in which toil and pain can \n",
      "procure him some great pleasure. To take a trivial example, which of us \n",
      "ever undertakes laborious physical exercise, except to obtain some advantage \n",
      "from it? But who has any right to find fault with a man who chooses to \n",
      "enjoy a pleasure that has no annoying consequences, or one who avoids \n",
      "a pain that produces no resultant pleasure?\"\n",
      "\n",
      "Section 1.10.33 of \"de Finibus \n",
      "Bonorum et Malorum\", written by Cicero in 45 BC\n",
      "\"At vero eos et accusamus \n",
      "et iusto odio dignissimos ducimus qui blanditiis praesentium voluptatum \n",
      "deleniti atque corrupti quos dolores et quas molestias excepturi sint \n",
      "occaecati cupiditate non provident, similique sunt in culpa qui officia \n",
      "deserunt mollitia animi, id est laborum et dolorum fuga. Et harum quidem \n",
      "rerum facilis est et expedita distinctio. Nam libero tempore, cum soluta \n",
      "nobis est eligendi optio cumque nihil impedit quo minus id quod maxime \n",
      "placeat facere possimus, omnis voluptas assumenda est, omnis dolor repellendus. \n",
      "Temporibus autem quibusdam et aut officiis debitis aut rerum necessitatibus \n",
      "saepe eveniet ut et voluptates repudiandae sint et molestiae non recusandae. \n",
      "Itaque earum rerum hic tenetur a sapiente delectus, ut aut reiciendis \n",
      "voluptatibus maiores alias consequatur aut perferendis doloribus asperiores \n",
      "repellat.\" "
     ]
    }
   ],
   "source": [
    "p(0.04, 70, story)"
   ]
  },
  {
   "cell_type": "markdown",
   "id": "10acd4c6",
   "metadata": {},
   "source": [
    "## Creat Tree"
   ]
  },
  {
   "cell_type": "code",
   "execution_count": null,
   "id": "6aab3c29",
   "metadata": {},
   "outputs": [],
   "source": [
    "class Node:\n",
    "    def __init__(self, description: str=None, is_death: bool=None, is_end: bool=None,*args, **kargs):\n",
    "        self.description = description\n",
    "        self.options = {} # value as decision desc and key as ref to node\n",
    "        self.is_death = is_death\n",
    "        self.is_end = is_end\n",
    "\n",
    "def generate_tree(path: str):\n",
    "    \"Creat a tree with story at each level and return head node.\"\n",
    "    with open(path, 'r') as f:\n",
    "        graph = json.load(f)\n",
    "\n",
    "    visited = {}\n",
    "    def helper(key):\n",
    "        if key in visited:\n",
    "            print(\"cached\")\n",
    "            return visited[key]\n",
    "        \n",
    "        print(key, graph[key])\n",
    "        node = Node(**graph[key])\n",
    "        items = graph[key]['decision'].items()\n",
    "        for key, value in items:\n",
    "            # del node.options[key]\n",
    "            node.options[value] = helper(key)\n",
    "        visited[key] = node\n",
    "        return node\n",
    "    \n",
    "    st = helper('start')\n",
    "    return st"
   ]
  },
  {
   "cell_type": "code",
   "execution_count": 15,
   "id": "ebae17c2",
   "metadata": {},
   "outputs": [
    {
     "name": "stdout",
     "output_type": "stream",
     "text": [
      "start {'description': 'start Lorem ipsum dolor sit amet, consectetur adipiscing elit, sed do eiusmod tempor incididunt ut labore et dolore magna aliqua. Ut enim ad minim veniam, quis nostrud exercitation ullamco laboris nisi ut aliquip ex ea commodo consequat. Duis aute irure dolor in reprehenderit in voluptate velit esse cillum dolore eu fugiat nulla pariatur. Excepteur sint occaecat cupidatat non proident, sunt in culpa qui officia deserunt mollit anim id est laborum.', 'decision': {'l1_d1': 'decision 1', 'l1_d2': 'decision 2', 'l1_d3': 'decision 3'}, 'is_death': False, 'is_end': False}\n",
      "l1_d1 {'description': 'l1_d1 Lorem ipsum dolor sit amet, consectetur adipiscing elit, sed do eiusmod tempor incididunt ut labore et dolore magna aliqua. Ut enim ad minim veniam, quis nostrud exercitation ullamco laboris nisi ut aliquip ex ea commodo consequat. Duis aute irure dolor in reprehenderit in voluptate velit esse cillum dolore eu fugiat nulla pariatur. Excepteur sint occaecat cupidatat non proident, sunt in culpa qui officia deserunt mollit anim id est laborum.', 'decision': {'l2_d1': 'decision 1', 'l2_d2': 'decision 2', 'l2_d3': 'decision 3'}, 'is_death': False, 'is_end': False}\n",
      "l2_d1 {'description': 'l2_d1 Lorem ipsum dolor sit amet, consectetur adipiscing elit, sed do eiusmod tempor incididunt ut labore et dolore magna aliqua. Ut enim ad minim veniam, quis nostrud exercitation ullamco laboris nisi ut aliquip ex ea commodo consequat. Duis aute irure dolor in reprehenderit in voluptate velit esse cillum dolore eu fugiat nulla pariatur. Excepteur sint occaecat cupidatat non proident, sunt in culpa qui officia deserunt mollit anim id est laborum.', 'decision': {}, 'is_death': False, 'is_end': True}\n",
      "l2_d2 {'description': 'l2_d2 Lorem ipsum dolor sit amet, consectetur adipiscing elit, sed do eiusmod tempor incididunt ut labore et dolore magna aliqua. Ut enim ad minim veniam, quis nostrud exercitation ullamco laboris nisi ut aliquip ex ea commodo consequat. Duis aute irure dolor in reprehenderit in voluptate velit esse cillum dolore eu fugiat nulla pariatur. Excepteur sint occaecat cupidatat non proident, sunt in culpa qui officia deserunt mollit anim id est laborum.', 'decision': {}, 'is_death': True, 'is_end': False}\n",
      "l2_d3 {'description': 'l2_d3 Lorem ipsum dolor sit amet, consectetur adipiscing elit, sed do eiusmod tempor incididunt ut labore et dolore magna aliqua. Ut enim ad minim veniam, quis nostrud exercitation ullamco laboris nisi ut aliquip ex ea commodo consequat. Duis aute irure dolor in reprehenderit in voluptate velit esse cillum dolore eu fugiat nulla pariatur. Excepteur sint occaecat cupidatat non proident, sunt in culpa qui officia deserunt mollit anim id est laborum.', 'decision': {}, 'is_death': False, 'is_end': True}\n",
      "l1_d2 {'description': 'l1_d2 Lorem ipsum dolor sit amet, consectetur adipiscing elit, sed do eiusmod tempor incididunt ut labore et dolore magna aliqua. Ut enim ad minim veniam, quis nostrud exercitation ullamco laboris nisi ut aliquip ex ea commodo consequat. Duis aute irure dolor in reprehenderit in voluptate velit esse cillum dolore eu fugiat nulla pariatur. Excepteur sint occaecat cupidatat non proident, sunt in culpa qui officia deserunt mollit anim id est laborum.', 'decision': {'l2_d2': 'decision 2', 'l2_d3': 'decision 3'}, 'is_death': False, 'is_end': False}\n",
      "cached\n",
      "cached\n",
      "l1_d3 {'description': 'l1_d3 Lorem ipsum dolor sit amet, consectetur adipiscing elit, sed do eiusmod tempor incididunt ut labore et dolore magna aliqua. Ut enim ad minim veniam, quis nostrud exercitation ullamco laboris nisi ut aliquip ex ea commodo consequat. Duis aute irure dolor in reprehenderit in voluptate velit esse cillum dolore eu fugiat nulla pariatur. Excepteur sint occaecat cupidatat non proident, sunt in culpa qui officia deserunt mollit anim id est laborum.', 'decision': {}, 'is_death': True, 'is_end': False}\n"
     ]
    }
   ],
   "source": [
    "t = generate_tree('story/sample.json')"
   ]
  },
  {
   "cell_type": "code",
   "execution_count": 18,
   "id": "d5d75fe9",
   "metadata": {},
   "outputs": [
    {
     "name": "stdout",
     "output_type": "stream",
     "text": [
      "start Lorem ipsum dolor sit amet, consectetur adipiscing elit, sed do eiusmod tempor incididunt ut labore et dolore magna aliqua. Ut enim ad minim veniam, quis nostrud exercitation ullamco laboris nisi ut aliquip ex ea commodo consequat. Duis aute irure dolor in reprehenderit in voluptate velit esse cillum dolore eu fugiat nulla pariatur. Excepteur sint occaecat cupidatat non proident, sunt in culpa qui officia deserunt mollit anim id est laborum.\n",
      "Decisions\n",
      "\tdict_keys(['decision 1', 'decision 2', 'decision 3'])\n",
      "\n",
      "l1_d1 Lorem ipsum dolor sit amet, consectetur adipiscing elit, sed do eiusmod tempor incididunt ut labore et dolore magna aliqua. Ut enim ad minim veniam, quis nostrud exercitation ullamco laboris nisi ut aliquip ex ea commodo consequat. Duis aute irure dolor in reprehenderit in voluptate velit esse cillum dolore eu fugiat nulla pariatur. Excepteur sint occaecat cupidatat non proident, sunt in culpa qui officia deserunt mollit anim id est laborum.\n",
      "Decisions\n",
      "\tdict_keys(['decision 1', 'decision 2', 'decision 3'])\n",
      "\n",
      "l2_d1 Lorem ipsum dolor sit amet, consectetur adipiscing elit, sed do eiusmod tempor incididunt ut labore et dolore magna aliqua. Ut enim ad minim veniam, quis nostrud exercitation ullamco laboris nisi ut aliquip ex ea commodo consequat. Duis aute irure dolor in reprehenderit in voluptate velit esse cillum dolore eu fugiat nulla pariatur. Excepteur sint occaecat cupidatat non proident, sunt in culpa qui officia deserunt mollit anim id est laborum.\n",
      "Decisions\n",
      "\tdict_keys([])\n",
      "\n",
      "l2_d2 Lorem ipsum dolor sit amet, consectetur adipiscing elit, sed do eiusmod tempor incididunt ut labore et dolore magna aliqua. Ut enim ad minim veniam, quis nostrud exercitation ullamco laboris nisi ut aliquip ex ea commodo consequat. Duis aute irure dolor in reprehenderit in voluptate velit esse cillum dolore eu fugiat nulla pariatur. Excepteur sint occaecat cupidatat non proident, sunt in culpa qui officia deserunt mollit anim id est laborum.\n",
      "Decisions\n",
      "\tdict_keys([])\n",
      "\n",
      "l2_d3 Lorem ipsum dolor sit amet, consectetur adipiscing elit, sed do eiusmod tempor incididunt ut labore et dolore magna aliqua. Ut enim ad minim veniam, quis nostrud exercitation ullamco laboris nisi ut aliquip ex ea commodo consequat. Duis aute irure dolor in reprehenderit in voluptate velit esse cillum dolore eu fugiat nulla pariatur. Excepteur sint occaecat cupidatat non proident, sunt in culpa qui officia deserunt mollit anim id est laborum.\n",
      "Decisions\n",
      "\tdict_keys([])\n",
      "\n",
      "l1_d2 Lorem ipsum dolor sit amet, consectetur adipiscing elit, sed do eiusmod tempor incididunt ut labore et dolore magna aliqua. Ut enim ad minim veniam, quis nostrud exercitation ullamco laboris nisi ut aliquip ex ea commodo consequat. Duis aute irure dolor in reprehenderit in voluptate velit esse cillum dolore eu fugiat nulla pariatur. Excepteur sint occaecat cupidatat non proident, sunt in culpa qui officia deserunt mollit anim id est laborum.\n",
      "Decisions\n",
      "\tdict_keys(['decision 2', 'decision 3'])\n",
      "\n",
      "l1_d3 Lorem ipsum dolor sit amet, consectetur adipiscing elit, sed do eiusmod tempor incididunt ut labore et dolore magna aliqua. Ut enim ad minim veniam, quis nostrud exercitation ullamco laboris nisi ut aliquip ex ea commodo consequat. Duis aute irure dolor in reprehenderit in voluptate velit esse cillum dolore eu fugiat nulla pariatur. Excepteur sint occaecat cupidatat non proident, sunt in culpa qui officia deserunt mollit anim id est laborum.\n",
      "Decisions\n",
      "\tdict_keys([])\n",
      "\n"
     ]
    }
   ],
   "source": [
    "def traverse(node, visited):\n",
    "    if node in visited:\n",
    "        return\n",
    "    visited.add(node)\n",
    "    print(node.description)\n",
    "    print(\"Decisions\")\n",
    "    print(f\"\\t{node.options.keys()}\\n\")\n",
    "\n",
    "    for n in node.options.values():\n",
    "        traverse(n, visited)\n",
    "traverse(t, set())"
   ]
  },
  {
   "cell_type": "code",
   "execution_count": null,
   "id": "3ba32671",
   "metadata": {},
   "outputs": [],
   "source": [
    "class Node:\n",
    "    def __init__(self, description: str=None, is_death: bool=None, is_end: bool=None, **kargs):\n",
    "        self.description = description\n",
    "        self.options = [] # value as decision desc and key as ref to node\n",
    "        self.next = []\n",
    "        self.is_death = is_death\n",
    "        self.is_end = is_end\n",
    "\n",
    "    def __repr__(self):\n",
    "        pass\n",
    "\n",
    "    def print_description(self, w_t=0.05, max_line_char_cnt=80):\n",
    "        # divide words into small chunk with char size of 100\n",
    "        line_char_cnt = 0\n",
    "        for word in self.description.split(' '):\n",
    "            # when curr line have n chars change line\n",
    "            if line_char_cnt >= max_line_char_cnt:\n",
    "                line_char_cnt = 0\n",
    "                print()\n",
    "            \n",
    "            line_char_cnt += len(word) + 1\n",
    "            print(word, end=' ', flush=True)\n",
    "            time.sleep(w_t)\n",
    "        \n",
    "        print()\n",
    "\n",
    "    def print_options(self):\n",
    "        for i, option in enumerate(self.options):\n",
    "            print(f\"{i}) {option}\")\n",
    "        \n",
    "        print()"
   ]
  },
  {
   "cell_type": "code",
   "execution_count": 28,
   "id": "52841c52",
   "metadata": {},
   "outputs": [],
   "source": [
    "def generate_tree(path: str):\n",
    "    \"Creat a tree with story at each level and return head node.\"\n",
    "    with open(path, 'r') as f:\n",
    "        graph = json.load(f)\n",
    "\n",
    "    visited = {}\n",
    "    def helper(key):\n",
    "        if key in visited:\n",
    "            return visited[key]\n",
    "        \n",
    "        node = Node(**graph[key])\n",
    "\n",
    "        items = graph[key]['decision'].items()\n",
    "        for key, value in items:\n",
    "            node.options.append(value)\n",
    "            node.next.append(helper(key))\n",
    "        visited[key] = node\n",
    "        return node\n",
    "\n",
    "    return helper('start')"
   ]
  },
  {
   "cell_type": "code",
   "execution_count": null,
   "id": "14da8779",
   "metadata": {},
   "outputs": [],
   "source": [
    "def traverse(node, visited):\n",
    "    if node in visited:\n",
    "        return\n",
    "    visited.add(node)\n",
    "    print(node.description)\n",
    "    print(\"Decisions\")\n",
    "    print(f\"\\t{node.options}\\n\")\n",
    "\n",
    "    for n in node.next:\n",
    "        traverse(n, visited)\n"
   ]
  },
  {
   "cell_type": "code",
   "execution_count": 29,
   "id": "6b02d280",
   "metadata": {},
   "outputs": [],
   "source": [
    "t = generate_tree('story/sample.json')"
   ]
  },
  {
   "cell_type": "code",
   "execution_count": 33,
   "id": "1b34ef7d",
   "metadata": {},
   "outputs": [
    {
     "name": "stdout",
     "output_type": "stream",
     "text": [
      "0) decision 1\n",
      "1) decision 2\n",
      "2) decision 3\n",
      "\n"
     ]
    }
   ],
   "source": [
    "t.print_options()"
   ]
  },
  {
   "cell_type": "code",
   "execution_count": 38,
   "id": "cb13a936",
   "metadata": {},
   "outputs": [
    {
     "name": "stdout",
     "output_type": "stream",
     "text": [
      "start Lorem ipsum dolor sit amet, consectetur adipiscing elit, sed do eiusmod tempor incididunt ut labore et dolore magna aliqua. Ut enim ad minim veniam, quis nostrud exercitation ullamco laboris nisi ut aliquip ex ea commodo consequat. Duis aute irure dolor in reprehenderit in voluptate velit esse cillum dolore eu fugiat nulla pariatur. Excepteur sint occaecat cupidatat non proident, sunt in culpa qui officia deserunt mollit anim id est laborum.\n",
      "Decisions\n",
      "\t['decision 1', 'decision 2', 'decision 3']\n",
      "\n",
      "l1_d1 Lorem ipsum dolor sit amet, consectetur adipiscing elit, sed do eiusmod tempor incididunt ut labore et dolore magna aliqua. Ut enim ad minim veniam, quis nostrud exercitation ullamco laboris nisi ut aliquip ex ea commodo consequat. Duis aute irure dolor in reprehenderit in voluptate velit esse cillum dolore eu fugiat nulla pariatur. Excepteur sint occaecat cupidatat non proident, sunt in culpa qui officia deserunt mollit anim id est laborum.\n",
      "Decisions\n",
      "\t['decision 1', 'decision 2', 'decision 3']\n",
      "\n",
      "l2_d1 Lorem ipsum dolor sit amet, consectetur adipiscing elit, sed do eiusmod tempor incididunt ut labore et dolore magna aliqua. Ut enim ad minim veniam, quis nostrud exercitation ullamco laboris nisi ut aliquip ex ea commodo consequat. Duis aute irure dolor in reprehenderit in voluptate velit esse cillum dolore eu fugiat nulla pariatur. Excepteur sint occaecat cupidatat non proident, sunt in culpa qui officia deserunt mollit anim id est laborum.\n",
      "Decisions\n",
      "\t[]\n",
      "\n",
      "l2_d2 Lorem ipsum dolor sit amet, consectetur adipiscing elit, sed do eiusmod tempor incididunt ut labore et dolore magna aliqua. Ut enim ad minim veniam, quis nostrud exercitation ullamco laboris nisi ut aliquip ex ea commodo consequat. Duis aute irure dolor in reprehenderit in voluptate velit esse cillum dolore eu fugiat nulla pariatur. Excepteur sint occaecat cupidatat non proident, sunt in culpa qui officia deserunt mollit anim id est laborum.\n",
      "Decisions\n",
      "\t[]\n",
      "\n",
      "l2_d3 Lorem ipsum dolor sit amet, consectetur adipiscing elit, sed do eiusmod tempor incididunt ut labore et dolore magna aliqua. Ut enim ad minim veniam, quis nostrud exercitation ullamco laboris nisi ut aliquip ex ea commodo consequat. Duis aute irure dolor in reprehenderit in voluptate velit esse cillum dolore eu fugiat nulla pariatur. Excepteur sint occaecat cupidatat non proident, sunt in culpa qui officia deserunt mollit anim id est laborum.\n",
      "Decisions\n",
      "\t[]\n",
      "\n",
      "l1_d2 Lorem ipsum dolor sit amet, consectetur adipiscing elit, sed do eiusmod tempor incididunt ut labore et dolore magna aliqua. Ut enim ad minim veniam, quis nostrud exercitation ullamco laboris nisi ut aliquip ex ea commodo consequat. Duis aute irure dolor in reprehenderit in voluptate velit esse cillum dolore eu fugiat nulla pariatur. Excepteur sint occaecat cupidatat non proident, sunt in culpa qui officia deserunt mollit anim id est laborum.\n",
      "Decisions\n",
      "\t['decision 2', 'decision 3']\n",
      "\n",
      "l1_d3 Lorem ipsum dolor sit amet, consectetur adipiscing elit, sed do eiusmod tempor incididunt ut labore et dolore magna aliqua. Ut enim ad minim veniam, quis nostrud exercitation ullamco laboris nisi ut aliquip ex ea commodo consequat. Duis aute irure dolor in reprehenderit in voluptate velit esse cillum dolore eu fugiat nulla pariatur. Excepteur sint occaecat cupidatat non proident, sunt in culpa qui officia deserunt mollit anim id est laborum.\n",
      "Decisions\n",
      "\t[]\n",
      "\n"
     ]
    }
   ],
   "source": [
    "traverse(t, set())"
   ]
  },
  {
   "cell_type": "code",
   "execution_count": null,
   "id": "88b36fe7",
   "metadata": {},
   "outputs": [],
   "source": [
    "def get_user_response():\n",
    "    while rem_life:\n",
    "        curr_node.print_options()\n",
    "        while True:\n",
    "            op = input(\"Input your desicsion (0, len(curr_node.options)-1\")\n",
    "            if op.isdigit() and 0 <= int(op) <  len(curr_node.options)-1:\n",
    "                break\n",
    "            else:\n",
    "                print(\"Give valid response...\")\n",
    "        if curr_node.next[op].is_death:\n",
    "            decrement_life()\n",
    "    \n",
    "    if not rem_life:\n",
    "        curr_node = curr_node.next[op]\n",
    "    else:\n",
    "        print(\"Game over\")\n",
    "        \n",
    "while rem_life:\n",
    "    curr_node.print_description()\n",
    "\n",
    "    response = get_user_response()\n",
    "\n",
    "    if rem_life:\n",
    "        curr_node = curr_node.next[response]\n",
    "\n",
    "\n"
   ]
  }
 ],
 "metadata": {
  "kernelspec": {
   "display_name": "c",
   "language": "python",
   "name": "python3"
  },
  "language_info": {
   "codemirror_mode": {
    "name": "ipython",
    "version": 3
   },
   "file_extension": ".py",
   "mimetype": "text/x-python",
   "name": "python",
   "nbconvert_exporter": "python",
   "pygments_lexer": "ipython3",
   "version": "3.12.11"
  }
 },
 "nbformat": 4,
 "nbformat_minor": 5
}
